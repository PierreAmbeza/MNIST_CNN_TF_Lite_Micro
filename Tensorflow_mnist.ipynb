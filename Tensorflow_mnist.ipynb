{
 "cells": [
  {
   "cell_type": "markdown",
   "metadata": {},
   "source": [
    "# MNIST-CNN-TFLite Micro\n",
    "Ce notebook est destiné à la création d'un modèle de réseau de neurones convolutionnel sur le dataset MNIST. Pour cela, nous allons utiliser les libraires de machine learning Tensorflow et Keras."
   ]
  },
  {
   "cell_type": "code",
   "execution_count": 75,
   "metadata": {},
   "outputs": [],
   "source": [
    "import tensorflow as tf \n",
    "from tensorflow.keras import layers\n",
    "from tensorflow.keras.datasets import mnist"
   ]
  },
  {
   "cell_type": "markdown",
   "metadata": {},
   "source": [
    "Nous pouvons charger les données du dataset mnist à l'aide de la fonction load_data, ce qui nous permet d'avoir des données d'entrainement et de test. On affiche ensuite la forme des données que nous passeront en entrée à notre modèle. Cela nous servira ensuite à déterminer l'**input_shape** de notre modèle."
   ]
  },
  {
   "cell_type": "code",
   "execution_count": 78,
   "metadata": {},
   "outputs": [
    {
     "name": "stdout",
     "output_type": "stream",
     "text": [
      "(60000, 28, 28)\n"
     ]
    }
   ],
   "source": [
    "(x_train, y_train), (x_test, y_test) = mnist.load_data()\n",
    "print(x_train.shape)"
   ]
  },
  {
   "cell_type": "markdown",
   "metadata": {},
   "source": [
    "Nous créons désormais notre modèle à partir de la fonction Sequential de Keras. Ce modèle est composé d'une première couche de **Reshape** des données d'entrées, ensuite de couches de **Conv2D** et de **MaxPooling** et enfin, d'une couche pour \"applatir\" les données en sortie après la seconde couche de **MaxPooling** et de couches **Dense** pour déterminer la catégorie à laquelle appartient l'image d'entrée."
   ]
  },
  {
   "cell_type": "code",
   "execution_count": 79,
   "metadata": {},
   "outputs": [
    {
     "name": "stdout",
     "output_type": "stream",
     "text": [
      "Model: \"sequential_5\"\n",
      "_________________________________________________________________\n",
      "Layer (type)                 Output Shape              Param #   \n",
      "=================================================================\n",
      "reshape_5 (Reshape)          (None, 28, 28, 1)         0         \n",
      "_________________________________________________________________\n",
      "conv2d_9 (Conv2D)            (None, 26, 26, 32)        320       \n",
      "_________________________________________________________________\n",
      "max_pooling2d_9 (MaxPooling2 (None, 13, 13, 32)        0         \n",
      "_________________________________________________________________\n",
      "conv2d_10 (Conv2D)           (None, 11, 11, 32)        9248      \n",
      "_________________________________________________________________\n",
      "max_pooling2d_10 (MaxPooling (None, 5, 5, 32)          0         \n",
      "_________________________________________________________________\n",
      "flatten_5 (Flatten)          (None, 800)               0         \n",
      "_________________________________________________________________\n",
      "dense_15 (Dense)             (None, 200)               160200    \n",
      "_________________________________________________________________\n",
      "dense_16 (Dense)             (None, 50)                10050     \n",
      "_________________________________________________________________\n",
      "dense_17 (Dense)             (None, 10)                510       \n",
      "=================================================================\n",
      "Total params: 180,328\n",
      "Trainable params: 180,328\n",
      "Non-trainable params: 0\n",
      "_________________________________________________________________\n"
     ]
    }
   ],
   "source": [
    "model = tf.keras.Sequential()\n",
    "model.add(layers.InputLayer(input_shape=(28, 28)))\n",
    "model.add(layers.Reshape(target_shape=(28, 28, 1)))\n",
    "model.add(layers.Conv2D(32, kernel_size = (3, 3), activation = 'relu'))\n",
    "model.add(layers.MaxPooling2D(2, 2))\n",
    "model.add((layers.Conv2D(32, kernel_size = (3, 3), activation = 'relu', input_shape = (13, 13, 32))))\n",
    "model.add(layers.MaxPooling2D(2, 2))\n",
    "model.add(layers.Flatten())\n",
    "model.add(layers.Dense(200, activation = 'relu'))\n",
    "model.add(layers.Dense(50, activation = 'relu'))\n",
    "model.add(layers.Dense(10, activation = 'softmax'))\n",
    "\n",
    "model.summary()"
   ]
  },
  {
   "cell_type": "markdown",
   "metadata": {},
   "source": [
    "Nous devons désormais définir comment se fera l'apprentissage, notamment le calcul de la **loss**. Dans notre cas, nous avons plusieurs catégories et nous devons donc utiliser une **categorical_crossentropy**. Nous ajoutons également l'**accuracy** dans les **metrics** car nous voulons savoir la précision de notre modèle."
   ]
  },
  {
   "cell_type": "code",
   "execution_count": 80,
   "metadata": {},
   "outputs": [],
   "source": [
    "model.compile(optimizer='rmsprop', loss='sparse_categorical_crossentropy', metrics=['accuracy'])"
   ]
  },
  {
   "cell_type": "markdown",
   "metadata": {},
   "source": [
    "La prochaine étape est désormais d'entraîner notre modèle sur les données d'entrainement. Mais avant cela, nous normalisons nos images d'entrainement et de test en divisant chaque valeur de pixel par la valeur maximale soit 255."
   ]
  },
  {
   "cell_type": "code",
   "execution_count": 81,
   "metadata": {},
   "outputs": [
    {
     "name": "stdout",
     "output_type": "stream",
     "text": [
      "Train on 60000 samples\n",
      "60000/60000 [==============================] - 28s 469us/sample - loss: 0.1408 - accuracy: 0.9555\n"
     ]
    }
   ],
   "source": [
    "x_train = x_train / 255\n",
    "x_test = x_test / 255\n",
    "\n",
    "history_1=model.fit(x_train, y_train)"
   ]
  },
  {
   "cell_type": "markdown",
   "metadata": {},
   "source": [
    "Nous voyons donc que nous avons obtenu une précision de notre modèle de 95.5% pour l'entrainement de notre modèle.\n",
    "\n",
    "Par la suite, nous allons prédire les valeurs de sorties pour les données de test. Comme nous avons plusieurs classes de chiffres, nous utilisons la méthode **predict_classes**. Nous allons ensuite comparer ces prédictions avec les vraies valeurs et calculer la précision."
   ]
  },
  {
   "cell_type": "code",
   "execution_count": 90,
   "metadata": {},
   "outputs": [
    {
     "name": "stdout",
     "output_type": "stream",
     "text": [
      "98.32\n"
     ]
    }
   ],
   "source": [
    "predictions = model.predict_classes(x_test)\n",
    "\n",
    "accuracy = 0\n",
    "for i in range(0, predictions.shape[0]):\n",
    "    if predictions[i] == y_test[i]:\n",
    "        accuracy += 1\n",
    "        \n",
    "accuracy = accuracy / 100\n",
    "print(accuracy)"
   ]
  },
  {
   "cell_type": "markdown",
   "metadata": {},
   "source": [
    "Nous voyons que nous obtenons une précision de 98.32 % sur les données d'entrainement. Nous pouvons vérifier ce calcul à l'aide de la fonction **evaluate**."
   ]
  },
  {
   "cell_type": "code",
   "execution_count": 92,
   "metadata": {},
   "outputs": [
    {
     "name": "stdout",
     "output_type": "stream",
     "text": [
      "10000/10000 [==============================] - 1s 96us/sample - loss: 0.0513 - accuracy: 0.9832\n",
      "98.32000136375427\n"
     ]
    }
   ],
   "source": [
    "loss, accuracy = model.evaluate(x_test, y_test)\n",
    "print(accuracy*100)"
   ]
  },
  {
   "cell_type": "markdown",
   "metadata": {},
   "source": [
    "Nous obtenons bel et bien la même **accuracy**.\n",
    "\n",
    "Nous savons désormais que notre modèle est capable d'identifier quel est le chiffre manuscrit sur les images du dataset **MNIST** avec une grande précision. Nous allons donc pouvoir convertir ce modèle en version **Lite** dans un premier temps puis ensuite en version **Micro**. Nous allons convertir ce modèle tout d'abord sans quantification puis ensuite avec quantification. Le modèle avec quantification sera donc de taille plus petite. En revanche, il semble qu'actuellement **TF Lite Micro** ne supporte pas la quantification. Enfin, nous enregistrons également notre modèle original."
   ]
  },
  {
   "cell_type": "code",
   "execution_count": 93,
   "metadata": {},
   "outputs": [
    {
     "name": "stdout",
     "output_type": "stream",
     "text": [
      "INFO:tensorflow:Assets written to: mnist_model_origin/assets\n"
     ]
    }
   ],
   "source": [
    "# Convert the model to the TensorFlow Lite format without quantization\n",
    "converter = tf.lite.TFLiteConverter.from_keras_model(model)\n",
    "tflite_model = converter.convert()\n",
    "\n",
    "# Save the model to disk\n",
    "open(\"mnist_model.tflite\", \"wb\").write(tflite_model)\n",
    "\n",
    "# Convert the model to the TensorFlow Lite format with quantization\n",
    "converter = tf.lite.TFLiteConverter.from_keras_model(model)\n",
    "converter.optimizations = [tf.lite.Optimize.OPTIMIZE_FOR_SIZE]\n",
    "tflite_model = converter.convert()\n",
    "\n",
    "# Save the model to disk\n",
    "open(\"mnist_model_quantized.tflite\", \"wb\").write(tflite_model)\n",
    "\n",
    "model.save('mnist_model_origin')"
   ]
  }
 ],
 "metadata": {
  "kernelspec": {
   "display_name": "Python 3",
   "language": "python",
   "name": "python3"
  },
  "language_info": {
   "codemirror_mode": {
    "name": "ipython",
    "version": 3
   },
   "file_extension": ".py",
   "mimetype": "text/x-python",
   "name": "python",
   "nbconvert_exporter": "python",
   "pygments_lexer": "ipython3",
   "version": "3.7.7"
  }
 },
 "nbformat": 4,
 "nbformat_minor": 4
}
